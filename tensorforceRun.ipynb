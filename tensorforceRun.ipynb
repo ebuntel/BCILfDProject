{
 "cells": [
  {
   "cell_type": "code",
   "execution_count": 1,
   "metadata": {},
   "outputs": [
    {
     "name": "stderr",
     "output_type": "stream",
     "text": [
      "\n"
     ]
    }
   ],
   "source": [
    "import gym\n",
    "import os\n",
    "\n",
    "from datetime import datetime\n",
    "from tensorforce import Environment, Agent, Runner\n",
    "from tensorforce_pacman_env import tf_pacman_env\n",
    "\n",
    "import ale_py.roms as roms\n",
    "import tensorflow as tf\n",
    "import tf_agents as tf_a\n",
    "import matplotlib.pyplot as plt\n",
    "import numpy as np"
   ]
  },
  {
   "cell_type": "code",
   "execution_count": 2,
   "metadata": {},
   "outputs": [
    {
     "name": "stderr",
     "output_type": "stream",
     "text": [
      "WARNING:root:No min_value bound specified for state.\n"
     ]
    },
    {
     "name": "stdout",
     "output_type": "stream",
     "text": [
      "<gym.wrappers.frame_stack.LazyFrames object at 0x7fcc40489680>\n",
      "Agent Created\n",
      "Agent pretrained\n"
     ]
    },
    {
     "data": {
      "text/plain": [
       "<gym.wrappers.frame_stack.LazyFrames at 0x7fcc1c1ba4a0>"
      ]
     },
     "execution_count": 2,
     "metadata": {},
     "output_type": "execute_result"
    }
   ],
   "source": [
    "# Counts # of trace files in folder\n",
    "_, _, files = next(os.walk(\"./pacman_traces\"))\n",
    "trace_count = len(files)\n",
    "\n",
    "environment = Environment.create(environment=tf_pacman_env)\n",
    "print(environment.reset())\n",
    "agent = Agent.create(agent='ddqn', environment=environment, batch_size = 1, memory = 10000) \n",
    "print(\"Agent Created\")\n",
    "agent.pretrain(directory='pacman_traces', num_iterations=30, num_traces=trace_count, num_updates=1)\n",
    "print(\"Agent pretrained\")\n",
    "environment.reset()"
   ]
  },
  {
   "cell_type": "code",
   "execution_count": 3,
   "metadata": {},
   "outputs": [
    {
     "name": "stderr",
     "output_type": "stream",
     "text": [
      "Episodes: 100%|██████████| 100/100 [01:26, return=300.00, ts/ep=492, sec/ep=1.33, ms/ts=2.7, agent=69.3%]"
     ]
    }
   ],
   "source": [
    "# env_name = 'ALE/MsPacman-v5'\n",
    "\n",
    "# env = gym.make(env_name)\n",
    "# env = gym.wrappers.AtariPreprocessing(\n",
    "#     env,\n",
    "#     noop_max = 30, \n",
    "#     frame_skip = 1, \n",
    "#     screen_size = 84, \n",
    "#     terminal_on_life_loss = False,\n",
    "#     grayscale_obs = True, \n",
    "#     grayscale_newaxis = False, \n",
    "#     scale_obs = False)\n",
    "# env = gym.wrappers.FrameStack(env, num_stack = 4)\n",
    "\n",
    "environment._expect_receive = None\n",
    "environment._actions = None\n",
    "\n",
    "runner = Runner(agent=agent, environment=environment)\n",
    "runner.run(num_episodes=100, evaluation=True)"
   ]
  },
  {
   "cell_type": "code",
   "execution_count": 6,
   "metadata": {},
   "outputs": [
    {
     "name": "stderr",
     "output_type": "stream",
     "text": [
      "WARNING:root:No min_value bound specified for state.\n",
      "Episodes: 100%|██████████| 100/100 [03:37, return=70.00, ts/ep=504, sec/ep=1.49, ms/ts=3.0, agent=69.7%]\n",
      "\n",
      "\u001b[A\n",
      "\u001b[A\n",
      "\u001b[A\n",
      "\u001b[A\n",
      "\u001b[A\n",
      "\u001b[A\n",
      "\u001b[A\n",
      "\u001b[A\n",
      "\u001b[A\n",
      "\u001b[A\n",
      "\u001b[A\n",
      "\u001b[A\n",
      "\u001b[A\n",
      "\u001b[A\n",
      "\u001b[A\n",
      "\u001b[A\n",
      "\u001b[A\n",
      "\u001b[A\n",
      "\u001b[A\n",
      "\u001b[A\n",
      "\u001b[A\n",
      "\u001b[A\n",
      "\u001b[A\n",
      "\u001b[A\n",
      "\u001b[A\n",
      "\u001b[A\n",
      "\u001b[A\n",
      "\u001b[A\n",
      "\u001b[A\n",
      "\u001b[A\n",
      "\u001b[A\n",
      "\u001b[A\n",
      "\u001b[A\n",
      "\u001b[A\n",
      "\u001b[A\n",
      "\u001b[A\n",
      "\u001b[A\n",
      "\u001b[A\n",
      "\u001b[A\n",
      "\u001b[A\n",
      "\u001b[A\n",
      "\u001b[A\n",
      "\u001b[A\n",
      "\u001b[A\n",
      "\u001b[A\n",
      "\u001b[A\n",
      "\u001b[A\n",
      "\u001b[A\n",
      "\u001b[A\n",
      "\u001b[A\n",
      "\u001b[A\n",
      "\u001b[A\n",
      "\u001b[A\n",
      "\u001b[A\n",
      "\u001b[A\n",
      "\u001b[A\n",
      "\u001b[A\n",
      "\u001b[A\n",
      "\u001b[A\n",
      "\u001b[A\n",
      "\u001b[A\n",
      "\u001b[A\n",
      "\u001b[A\n",
      "\u001b[A\n",
      "\u001b[A\n",
      "\u001b[A\n",
      "\u001b[A\n",
      "\u001b[A\n",
      "\u001b[A\n",
      "\u001b[A\n",
      "\u001b[A\n",
      "\u001b[A\n",
      "\u001b[A\n",
      "\u001b[A\n",
      "\u001b[A\n",
      "\u001b[A\n",
      "\u001b[A\n",
      "\u001b[A\n",
      "\u001b[A\n",
      "\u001b[A\n",
      "\u001b[A\n",
      "\u001b[A\n",
      "\u001b[A\n",
      "\u001b[A\n",
      "\u001b[A\n",
      "\u001b[A\n",
      "\u001b[A\n",
      "\u001b[A\n",
      "\u001b[A\n",
      "\u001b[A\n",
      "\u001b[A\n",
      "\u001b[A\n",
      "\u001b[A\n",
      "\u001b[A\n",
      "\u001b[A\n",
      "\u001b[A\n",
      "\u001b[A\n",
      "\u001b[A\n",
      "\u001b[A\n",
      "\u001b[A\n",
      "\u001b[A"
     ]
    }
   ],
   "source": [
    "environment._expect_receive = None\n",
    "environment._actions = None\n",
    "\n",
    "new_agent = Agent.create(agent='ddqn', environment=environment, batch_size = 1, memory = 10000)\n",
    "new_runner = Runner(agent=new_agent, environment=environment)\n",
    "new_runner.run(num_episodes=100, evaluation=True)"
   ]
  }
 ],
 "metadata": {
  "interpreter": {
   "hash": "916dbcbb3f70747c44a77c7bcd40155683ae19c65e1c03b4aa3499c5328201f1"
  },
  "kernelspec": {
   "display_name": "Python 3.8.10 64-bit",
   "language": "python",
   "name": "python3"
  },
  "language_info": {
   "codemirror_mode": {
    "name": "ipython",
    "version": 3
   },
   "file_extension": ".py",
   "mimetype": "text/x-python",
   "name": "python",
   "nbconvert_exporter": "python",
   "pygments_lexer": "ipython3",
   "version": "3.8.10"
  },
  "orig_nbformat": 4
 },
 "nbformat": 4,
 "nbformat_minor": 2
}
