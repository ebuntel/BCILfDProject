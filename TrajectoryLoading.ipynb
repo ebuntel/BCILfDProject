{
 "cells": [
  {
   "cell_type": "code",
   "execution_count": 34,
   "metadata": {},
   "outputs": [],
   "source": [
    "import pyvirtualdisplay\n",
    "import gym\n",
    "import pickle"
   ]
  },
  {
   "cell_type": "code",
   "execution_count": 35,
   "metadata": {},
   "outputs": [
    {
     "data": {
      "text/plain": [
       "(array([[[  0,   0,   0],\n",
       "         [  0,   0,   0],\n",
       "         [  0,   0,   0],\n",
       "         ...,\n",
       "         [  0,   0,   0],\n",
       "         [  0,   0,   0],\n",
       "         [  0,   0,   0]],\n",
       " \n",
       "        [[228, 111, 111],\n",
       "         [228, 111, 111],\n",
       "         [228, 111, 111],\n",
       "         ...,\n",
       "         [228, 111, 111],\n",
       "         [228, 111, 111],\n",
       "         [228, 111, 111]],\n",
       " \n",
       "        [[228, 111, 111],\n",
       "         [228, 111, 111],\n",
       "         [228, 111, 111],\n",
       "         ...,\n",
       "         [228, 111, 111],\n",
       "         [228, 111, 111],\n",
       "         [228, 111, 111]],\n",
       " \n",
       "        ...,\n",
       " \n",
       "        [[  0,   0,   0],\n",
       "         [  0,   0,   0],\n",
       "         [  0,   0,   0],\n",
       "         ...,\n",
       "         [  0,   0,   0],\n",
       "         [  0,   0,   0],\n",
       "         [  0,   0,   0]],\n",
       " \n",
       "        [[  0,   0,   0],\n",
       "         [  0,   0,   0],\n",
       "         [  0,   0,   0],\n",
       "         ...,\n",
       "         [  0,   0,   0],\n",
       "         [  0,   0,   0],\n",
       "         [  0,   0,   0]],\n",
       " \n",
       "        [[  0,   0,   0],\n",
       "         [  0,   0,   0],\n",
       "         [  0,   0,   0],\n",
       "         ...,\n",
       "         [  0,   0,   0],\n",
       "         [  0,   0,   0],\n",
       "         [  0,   0,   0]]], dtype=uint8),\n",
       " array([[[  0,   0,   0],\n",
       "         [  0,   0,   0],\n",
       "         [  0,   0,   0],\n",
       "         ...,\n",
       "         [  0,   0,   0],\n",
       "         [  0,   0,   0],\n",
       "         [  0,   0,   0]],\n",
       " \n",
       "        [[228, 111, 111],\n",
       "         [228, 111, 111],\n",
       "         [228, 111, 111],\n",
       "         ...,\n",
       "         [228, 111, 111],\n",
       "         [228, 111, 111],\n",
       "         [228, 111, 111]],\n",
       " \n",
       "        [[228, 111, 111],\n",
       "         [228, 111, 111],\n",
       "         [228, 111, 111],\n",
       "         ...,\n",
       "         [228, 111, 111],\n",
       "         [228, 111, 111],\n",
       "         [228, 111, 111]],\n",
       " \n",
       "        ...,\n",
       " \n",
       "        [[  0,   0,   0],\n",
       "         [  0,   0,   0],\n",
       "         [  0,   0,   0],\n",
       "         ...,\n",
       "         [  0,   0,   0],\n",
       "         [  0,   0,   0],\n",
       "         [  0,   0,   0]],\n",
       " \n",
       "        [[  0,   0,   0],\n",
       "         [  0,   0,   0],\n",
       "         [  0,   0,   0],\n",
       "         ...,\n",
       "         [  0,   0,   0],\n",
       "         [  0,   0,   0],\n",
       "         [  0,   0,   0]],\n",
       " \n",
       "        [[  0,   0,   0],\n",
       "         [  0,   0,   0],\n",
       "         [  0,   0,   0],\n",
       "         ...,\n",
       "         [  0,   0,   0],\n",
       "         [  0,   0,   0],\n",
       "         [  0,   0,   0]]], dtype=uint8),\n",
       " 0,\n",
       " 0.0,\n",
       " False,\n",
       " {'lives': 3, 'episode_frame_number': 4, 'frame_number': 4})"
      ]
     },
     "execution_count": 35,
     "metadata": {},
     "output_type": "execute_result"
    }
   ],
   "source": [
    "with open(\"trajectory04-27-2022,16-52.pkl\", \"rb\") as trajectoryfile:\n",
    "    trajectories = pickle.load(trajectoryfile)\n",
    "\n",
    "trajectories[0]"
   ]
  },
  {
   "cell_type": "code",
   "execution_count": 36,
   "metadata": {},
   "outputs": [
    {
     "name": "stdout",
     "output_type": "stream",
     "text": [
      "{(None,): 0, (32,): 1, (119,): 2, (100,): 3, (97,): 4, (115,): 5, (100, 119): 6, (97, 119): 7, (100, 115): 8, (97, 115): 9, (32, 119): 10, (32, 100): 11, (32, 97): 12, (32, 115): 13, (32, 100, 119): 14, (32, 97, 119): 15, (32, 100, 115): 16, (32, 97, 115): 17}\n"
     ]
    }
   ],
   "source": [
    "import numpy as np\n",
    "\n",
    "from tf_agents.trajectories import Trajectory\n",
    "from tf_agents.environments import suite_gym\n",
    "from tf_agents.environments import tf_py_environment\n",
    "from tf_agents.environments.atari_preprocessing import AtariPreprocessing\n",
    "from tf_agents.environments.atari_wrappers import FrameStack4\n",
    "\n",
    "\n",
    "env_name = 'ALE/MsPacman-v5'\n",
    "\n",
    "env = gym.make(env_name)\n",
    "\n",
    "init_step = env.reset()\n",
    "adict = env.unwrapped.get_keys_to_action()\n",
    "print(adict)\n",
    "\n",
    "train_py_env = suite_gym.load(env_name, \n",
    "                     gym_env_wrappers=[AtariPreprocessing, FrameStack4])\n",
    "eval_py_env = suite_gym.load(env_name, \n",
    "                     gym_env_wrappers=[AtariPreprocessing, FrameStack4])\n",
    "\n",
    "init_step = train_py_env.reset()\n",
    "\n",
    "trajectory_list = []\n",
    "for tuple in trajectories:\n",
    "    new_traj = Trajectory(step_type=init_step.step_type, \n",
    "        observation=tuple[0], \n",
    "        action=tuple[2],\n",
    "        policy_info=tuple[5],\n",
    "        next_step_type=init_step.step_type,\n",
    "        reward=tuple[3],\n",
    "        discount=1.0)\n",
    "    trajectory_list.append(new_traj)\n"
   ]
  },
  {
   "cell_type": "code",
   "execution_count": 37,
   "metadata": {},
   "outputs": [],
   "source": [
    "import tensorflow as tf"
   ]
  },
  {
   "cell_type": "code",
   "execution_count": 38,
   "metadata": {},
   "outputs": [
    {
     "data": {
      "text/plain": [
       "(210, 160, 3)"
      ]
     },
     "execution_count": 38,
     "metadata": {},
     "output_type": "execute_result"
    }
   ],
   "source": [
    "np.shape(trajectories[0][0])"
   ]
  },
  {
   "cell_type": "code",
   "execution_count": null,
   "metadata": {},
   "outputs": [],
   "source": []
  },
  {
   "cell_type": "code",
   "execution_count": 39,
   "metadata": {},
   "outputs": [
    {
     "name": "stdout",
     "output_type": "stream",
     "text": [
      "(2126, 5)\n"
     ]
    }
   ],
   "source": [
    "traj_data_spec = (\n",
    "    tf.TensorSpec([210, 160, 3], tf.float32, 'observation'),\n",
    "    tf.TensorSpec([1], tf.float32, 'action'),\n",
    "    tf.TensorSpec([1], tf.float32, 'reward'),\n",
    "    tf.TensorSpec([1], tf.float32, 'done'),\n",
    "    (\n",
    "        tf.TensorSpec([1], tf.float32, 'lives'),\n",
    "        tf.TensorSpec([1], tf.float32, 'episode_frames_number'),\n",
    "        tf.TensorSpec([1], tf.float32, 'frame_number')\n",
    "    )\n",
    ")\n",
    "\n",
    "tensor_traj_list = []\n",
    "\n",
    "for traj in trajectories:\n",
    "    done_val = 0.0\n",
    "    if traj[4]:\n",
    "        done_val = 1.0\n",
    "\n",
    "    interim = (\n",
    "        tf.constant(traj[0], dtype = tf.float32, shape = (210,160,3), name ='observation'),\n",
    "        tf.constant(traj[2], dtype = tf.float32, shape = (1), name = 'action'),\n",
    "        tf.constant(traj[3], dtype = tf.float32, shape = (1), name = 'reward'),\n",
    "        tf.constant(done_val, dtype = tf.float32, shape = (1), name = 'done'),\n",
    "        (\n",
    "            tf.constant(traj[5]['lives'], dtype = tf.float32, shape = (1), name = 'lives'),\n",
    "            tf.constant(traj[5]['episode_frame_number'], dtype = tf.float32, shape = (1), name = 'episode_frame_number'),\n",
    "            tf.constant(traj[5]['frame_number'], dtype = tf.float32, shape = (1), name = 'frame_number')\n",
    "        )\n",
    "    )\n",
    "\n",
    "    #     interim = (\n",
    "    #     np.array(traj[0]),\n",
    "    #     np.array(traj[2]),\n",
    "    #     np.array(traj[3]),\n",
    "    #     np.array(done_val),\n",
    "    #     (\n",
    "    #         np.array(traj[5]['lives']),\n",
    "    #         np.array(traj[5]['episode_frame_number']),\n",
    "    #         np.array(traj[5]['frame_number'])\n",
    "    #     )\n",
    "    # )\n",
    "\n",
    "    tensor_traj_list.append(interim)\n",
    "print(np.shape(tensor_traj_list))"
   ]
  },
  {
   "cell_type": "code",
   "execution_count": 42,
   "metadata": {},
   "outputs": [],
   "source": [
    "from tf_agents.specs import ArraySpec\n",
    "\n",
    "# traj_data_spec = (\n",
    "#     ArraySpec([210, 160, 3], np.float32, 'observation'),\n",
    "#     ArraySpec([1], np.float32, 'action'),\n",
    "#     ArraySpec([1], np.float32, 'reward'),\n",
    "#     ArraySpec([1], np.float32, 'done'),\n",
    "#     (\n",
    "#         ArraySpec([1], np.float32, 'lives'),\n",
    "#         ArraySpec([1], np.float32, 'episode_frames_number'),\n",
    "#         ArraySpec([1], np.float32, 'frane')\n",
    "#     )\n",
    "# )\n",
    "\n",
    "traj_data_spec = (\n",
    "    tf.TensorSpec([210, 160, 3], tf.float32, 'observation'),\n",
    "    tf.TensorSpec([1], tf.float32, 'action'),\n",
    "    tf.TensorSpec([1], tf.float32, 'reward'),\n",
    "    tf.TensorSpec([1], tf.float32, 'done'),\n",
    "    (\n",
    "        tf.TensorSpec([1], tf.float32, 'lives'),\n",
    "        tf.TensorSpec([1], tf.float32, 'episode_frames_number'),\n",
    "        tf.TensorSpec([1], tf.float32, 'frane')\n",
    "    )\n",
    ")"
   ]
  },
  {
   "cell_type": "code",
   "execution_count": 43,
   "metadata": {},
   "outputs": [],
   "source": [
    "from tf_agents.replay_buffers import TFUniformReplayBuffer\n",
    "\n",
    "replay_buffer = TFUniformReplayBuffer(\n",
    "    traj_data_spec,\n",
    "    batch_size=2, \n",
    "    max_length = 1000\n",
    ")"
   ]
  },
  {
   "cell_type": "code",
   "execution_count": 49,
   "metadata": {},
   "outputs": [],
   "source": [
    "batch_size = 2\n",
    "\n",
    "to_batch = tf.nest.map_structure(lambda t: tf.stack([t] * batch_size), tensor_traj_list)\n",
    "for element in to_batch:\n",
    "    replay_buffer.add_batch(element)"
   ]
  },
  {
   "cell_type": "code",
   "execution_count": 54,
   "metadata": {},
   "outputs": [
    {
     "name": "stdout",
     "output_type": "stream",
     "text": [
      "((<tf.Tensor: shape=(210, 160, 3), dtype=float32, numpy=\n",
      "array([[[  0.,   0.,   0.],\n",
      "        [  0.,   0.,   0.],\n",
      "        [  0.,   0.,   0.],\n",
      "        ...,\n",
      "        [  0.,   0.,   0.],\n",
      "        [  0.,   0.,   0.],\n",
      "        [  0.,   0.,   0.]],\n",
      "\n",
      "       [[228., 111., 111.],\n",
      "        [228., 111., 111.],\n",
      "        [228., 111., 111.],\n",
      "        ...,\n",
      "        [228., 111., 111.],\n",
      "        [228., 111., 111.],\n",
      "        [228., 111., 111.]],\n",
      "\n",
      "       [[228., 111., 111.],\n",
      "        [228., 111., 111.],\n",
      "        [228., 111., 111.],\n",
      "        ...,\n",
      "        [228., 111., 111.],\n",
      "        [228., 111., 111.],\n",
      "        [228., 111., 111.]],\n",
      "\n",
      "       ...,\n",
      "\n",
      "       [[  0.,   0.,   0.],\n",
      "        [  0.,   0.,   0.],\n",
      "        [  0.,   0.,   0.],\n",
      "        ...,\n",
      "        [  0.,   0.,   0.],\n",
      "        [  0.,   0.,   0.],\n",
      "        [  0.,   0.,   0.]],\n",
      "\n",
      "       [[  0.,   0.,   0.],\n",
      "        [  0.,   0.,   0.],\n",
      "        [  0.,   0.,   0.],\n",
      "        ...,\n",
      "        [  0.,   0.,   0.],\n",
      "        [  0.,   0.,   0.],\n",
      "        [  0.,   0.,   0.]],\n",
      "\n",
      "       [[  0.,   0.,   0.],\n",
      "        [  0.,   0.,   0.],\n",
      "        [  0.,   0.,   0.],\n",
      "        ...,\n",
      "        [  0.,   0.,   0.],\n",
      "        [  0.,   0.,   0.],\n",
      "        [  0.,   0.,   0.]]], dtype=float32)>, <tf.Tensor: shape=(1,), dtype=float32, numpy=array([1.], dtype=float32)>, <tf.Tensor: shape=(1,), dtype=float32, numpy=array([10.], dtype=float32)>, <tf.Tensor: shape=(1,), dtype=float32, numpy=array([0.], dtype=float32)>, (<tf.Tensor: shape=(1,), dtype=float32, numpy=array([2.], dtype=float32)>, <tf.Tensor: shape=(1,), dtype=float32, numpy=array([5688.], dtype=float32)>, <tf.Tensor: shape=(1,), dtype=float32, numpy=array([5688.], dtype=float32)>)), BufferInfo(ids=<tf.Tensor: shape=(), dtype=int64, numpy=1421>, probabilities=<tf.Tensor: shape=(), dtype=float32, numpy=0.0005>))\n"
     ]
    }
   ],
   "source": [
    "print(replay_buffer.get_next())"
   ]
  }
 ],
 "metadata": {
  "interpreter": {
   "hash": "916dbcbb3f70747c44a77c7bcd40155683ae19c65e1c03b4aa3499c5328201f1"
  },
  "kernelspec": {
   "display_name": "Python 3.8.10 64-bit",
   "language": "python",
   "name": "python3"
  },
  "language_info": {
   "codemirror_mode": {
    "name": "ipython",
    "version": 3
   },
   "file_extension": ".py",
   "mimetype": "text/x-python",
   "name": "python",
   "nbconvert_exporter": "python",
   "pygments_lexer": "ipython3",
   "version": "3.8.10"
  },
  "orig_nbformat": 4
 },
 "nbformat": 4,
 "nbformat_minor": 2
}
