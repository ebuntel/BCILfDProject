{
 "cells": [
  {
   "cell_type": "code",
   "execution_count": 1,
   "metadata": {},
   "outputs": [
    {
     "name": "stderr",
     "output_type": "stream",
     "text": [
      "\n"
     ]
    }
   ],
   "source": [
    "import gym\n",
    "import os\n",
    "\n",
    "from datetime import datetime\n",
    "from tensorforce import Environment, Agent, Runner\n",
    "from tensorforce_pacman_env import tf_pacman_env\n",
    "\n",
    "import ale_py.roms as roms\n",
    "import tensorflow as tf\n",
    "import tf_agents as tf_a\n",
    "import matplotlib.pyplot as plt\n",
    "import numpy as np"
   ]
  },
  {
   "cell_type": "code",
   "execution_count": 2,
   "metadata": {},
   "outputs": [
    {
     "name": "stderr",
     "output_type": "stream",
     "text": [
      "A.L.E: Arcade Learning Environment (version +978d2ce)\n",
      "[Powered by Stella]\n",
      "WARNING:root:No min_value bound specified for state.\n"
     ]
    },
    {
     "name": "stdout",
     "output_type": "stream",
     "text": [
      "[[[ 88  88  67 ...  67  88  88]\n",
      "  [146 146  43 ...  43 146 146]\n",
      "  [146 146  43 ...  43 146 146]\n",
      "  ...\n",
      "  [  0   0   0 ...   0   0   0]\n",
      "  [  0   0   0 ...   0   0   0]\n",
      "  [  0   0   0 ...   0   0   0]]\n",
      "\n",
      " [[ 88  88  67 ...  67  88  88]\n",
      "  [146 146  43 ...  43 146 146]\n",
      "  [146 146  43 ...  43 146 146]\n",
      "  ...\n",
      "  [  0   0   0 ...   0   0   0]\n",
      "  [  0   0   0 ...   0   0   0]\n",
      "  [  0   0   0 ...   0   0   0]]\n",
      "\n",
      " [[ 88  88  67 ...  67  88  88]\n",
      "  [146 146  43 ...  43 146 146]\n",
      "  [146 146  43 ...  43 146 146]\n",
      "  ...\n",
      "  [  0   0   0 ...   0   0   0]\n",
      "  [  0   0   0 ...   0   0   0]\n",
      "  [  0   0   0 ...   0   0   0]]\n",
      "\n",
      " [[ 88  88  67 ...  67  88  88]\n",
      "  [146 146  43 ...  43 146 146]\n",
      "  [146 146  43 ...  43 146 146]\n",
      "  ...\n",
      "  [  0   0   0 ...   0   0   0]\n",
      "  [  0   0   0 ...   0   0   0]\n",
      "  [  0   0   0 ...   0   0   0]]]\n",
      "Agent Created\n",
      "Agent pretrained\n"
     ]
    },
    {
     "data": {
      "text/plain": [
       "array([[[ 88,  88,  67, ...,  67,  88,  88],\n",
       "        [146, 146,  43, ...,  43, 146, 146],\n",
       "        [146, 146,  43, ...,  43, 146, 146],\n",
       "        ...,\n",
       "        [  0,   0,   0, ...,   0,   0,   0],\n",
       "        [  0,   0,   0, ...,   0,   0,   0],\n",
       "        [  0,   0,   0, ...,   0,   0,   0]],\n",
       "\n",
       "       [[ 88,  88,  67, ...,  67,  88,  88],\n",
       "        [146, 146,  43, ...,  43, 146, 146],\n",
       "        [146, 146,  43, ...,  43, 146, 146],\n",
       "        ...,\n",
       "        [  0,   0,   0, ...,   0,   0,   0],\n",
       "        [  0,   0,   0, ...,   0,   0,   0],\n",
       "        [  0,   0,   0, ...,   0,   0,   0]],\n",
       "\n",
       "       [[ 88,  88,  67, ...,  67,  88,  88],\n",
       "        [146, 146,  43, ...,  43, 146, 146],\n",
       "        [146, 146,  43, ...,  43, 146, 146],\n",
       "        ...,\n",
       "        [  0,   0,   0, ...,   0,   0,   0],\n",
       "        [  0,   0,   0, ...,   0,   0,   0],\n",
       "        [  0,   0,   0, ...,   0,   0,   0]],\n",
       "\n",
       "       [[ 88,  88,  67, ...,  67,  88,  88],\n",
       "        [146, 146,  43, ...,  43, 146, 146],\n",
       "        [146, 146,  43, ...,  43, 146, 146],\n",
       "        ...,\n",
       "        [  0,   0,   0, ...,   0,   0,   0],\n",
       "        [  0,   0,   0, ...,   0,   0,   0],\n",
       "        [  0,   0,   0, ...,   0,   0,   0]]], dtype=uint8)"
      ]
     },
     "execution_count": 2,
     "metadata": {},
     "output_type": "execute_result"
    }
   ],
   "source": [
    "# Counts # of trace files in folder\n",
    "_, _, files = next(os.walk(\"./pacman_traces\"))\n",
    "trace_count = len(files)\n",
    "\n",
    "environment = Environment.create(environment=tf_pacman_env)\n",
    "print(environment.reset())\n",
    "agent = Agent.create(agent='ddqn', \n",
    "    environment=environment, \n",
    "    batch_size = 1, \n",
    "    memory = 10000,\n",
    "    learning_rate=dict(\n",
    "        type='exponential', unit='episodes', num_steps=1000,\n",
    "        initial_value=0.01, decay_rate=0.5\n",
    "    ),\n",
    "    network = [\n",
    "        dict(type = 'conv2d', size = 32, window = (8,8), stride = 4, bias = True, activation = \"relu\"),\n",
    "        dict(type = 'conv2d', size = 64, window = (4,4), stride = 2, bias = True, activation = \"relu\"),\n",
    "        dict(type = 'conv2d', size = 64, window = (3,3), stride = 1, bias = True, activation = \"relu\"),\n",
    "        dict(type = 'pooling', reduction = 'max'),\n",
    "        dict(type = 'dense',  size = 512, bias = True, activation = 'relu')\n",
    "    ],\n",
    "    exploration=1e-2,\n",
    "    config=dict(device='GPU')\n",
    "    ) \n",
    "print(\"Agent Created\")\n",
    "agent.pretrain(directory='pacman_traces', num_iterations=30, num_traces=trace_count, num_updates=1)\n",
    "print(\"Agent pretrained\")\n",
    "environment.reset()"
   ]
  },
  {
   "cell_type": "code",
   "execution_count": 3,
   "metadata": {},
   "outputs": [
    {
     "data": {
      "application/vnd.jupyter.widget-view+json": {
       "model_id": "c0f17a6adf354e90afeeeb7590beb2f5",
       "version_major": 2,
       "version_minor": 0
      },
      "text/plain": [
       "Episodes:   0%|          | 0/250 [00:00, return=0.00, ts/ep=0, sec/ep=0.00, ms/ts=0.0, agent=0.0%]"
      ]
     },
     "metadata": {},
     "output_type": "display_data"
    }
   ],
   "source": [
    "# env_name = 'ALE/MsPacman-v5'\n",
    "\n",
    "# env = gym.make(env_name)\n",
    "# env = gym.wrappers.AtariPreprocessing(\n",
    "#     env,\n",
    "#     noop_max = 30, \n",
    "#     frame_skip = 1, \n",
    "#     screen_size = 84, \n",
    "#     terminal_on_life_loss = False,\n",
    "#     grayscale_obs = True, \n",
    "#     grayscale_newaxis = False, \n",
    "#     scale_obs = False)\n",
    "# env = gym.wrappers.FrameStack(env, num_stack = 4)\n",
    "\n",
    "environment._expect_receive = None\n",
    "environment._actions = None\n",
    "\n",
    "runner = Runner(agent=agent, environment=environment)\n",
    "runner.run(num_episodes=250,  mean_horizon=5)\n",
    "\n",
    "runner.run(num_episodes=1, evaluation=True)"
   ]
  },
  {
   "cell_type": "code",
   "execution_count": null,
   "metadata": {},
   "outputs": [
    {
     "data": {
      "image/png": "[encoded data removed]",
      "text/plain": [
       "<Figure size 432x288 with 1 Axes>"
      ]
     },
     "metadata": {
      "needs_background": "light"
     },
     "output_type": "display_data"
    }
   ],
   "source": [
    "run_reward_list = environment.episode_reward_list\n",
    "\n",
    "plt.plot(list(range(len(run_reward_list))), run_reward_list)\n",
    "\n",
    "z = np.polyfit(list(range(len(run_reward_list))), run_reward_list, 2)\n",
    "p = np.poly1d(z)\n",
    "plt.plot(list(range(len(run_reward_list))), p(range(len(run_reward_list))))\n",
    "\n",
    "plt.xlabel = \"Episode\"\n",
    "plt.ylabel = \"Reward\"\n",
    "plt.title(\"Pretrained Reward over time\")\n",
    "plt.show()"
   ]
  },
  {
   "cell_type": "code",
   "execution_count": null,
   "metadata": {},
   "outputs": [
    {
     "name": "stderr",
     "output_type": "stream",
     "text": [
      "WARNING:root:No min_value bound specified for state.\n"
     ]
    },
    {
     "data": {
      "application/vnd.jupyter.widget-view+json": {
       "model_id": "8248b715219648f49b1c3a11c5017e56",
       "version_major": 2,
       "version_minor": 0
      },
      "text/plain": [
       "Episodes:   0%|          | 0/125 [00:00, return=0.00, ts/ep=0, sec/ep=0.00, ms/ts=0.0, agent=0.0%]"
      ]
     },
     "metadata": {},
     "output_type": "display_data"
    }
   ],
   "source": [
    "environment.reset()\n",
    "\n",
    "environment._expect_receive = None\n",
    "environment._actions = None\n",
    "\n",
    "new_agent = Agent.create(agent='ddqn', \n",
    "    environment=environment, \n",
    "    batch_size = 1, \n",
    "    memory = 10000,\n",
    "    learning_rate=dict(\n",
    "        type='exponential', unit='episodes', num_steps=1000,\n",
    "        initial_value=0.01, decay_rate=0.5\n",
    "    ),\n",
    "    network = [\n",
    "        dict(type = 'conv2d', size = 32, window = (8,8), stride = 4, bias = True, activation = \"relu\"),\n",
    "        dict(type = 'conv2d', size = 64, window = (4,4), stride = 2, bias = True, activation = \"relu\"),\n",
    "        dict(type = 'conv2d', size = 64, window = (3,3), stride = 1, bias = True, activation = \"relu\"),\n",
    "        dict(type = 'pooling', reduction = 'max'),\n",
    "        dict(type = 'dense',  size = 512, bias = True, activation = 'relu')\n",
    "    ],\n",
    "    exploration=1e-2,\n",
    "    config=dict(device='GPU')\n",
    "    ) \n",
    "\n",
    "new_runner = Runner(agent=new_agent, environment=environment)\n",
    "new_runner.run(num_episodes=250, mean_horizon=5)\n",
    "\n",
    "new_runner.run(num_episodes=1, evaluation=True)"
   ]
  },
  {
   "cell_type": "code",
   "execution_count": null,
   "metadata": {},
   "outputs": [
    {
     "data": {
      "image/png": "[encoded data removed]",
      "text/plain": [
       "<Figure size 432x288 with 1 Axes>"
      ]
     },
     "metadata": {
      "needs_background": "light"
     },
     "output_type": "display_data"
    }
   ],
   "source": [
    "run_reward_list = environment.episode_reward_list\n",
    "\n",
    "plt.plot(list(range(len(run_reward_list))), run_reward_list)\n",
    "plt.xlabel = \"Episode\"\n",
    "plt.ylabel = \"Reward\"\n",
    "plt.title(\"Non-pretrained Reward over time\")\n",
    "plt.show()"
   ]
  }
 ],
 "metadata": {
  "interpreter": {
   "hash": "916dbcbb3f70747c44a77c7bcd40155683ae19c65e1c03b4aa3499c5328201f1"
  },
  "kernelspec": {
   "display_name": "Python 3.8.10 64-bit",
   "language": "python",
   "name": "python3"
  },
  "language_info": {
   "codemirror_mode": {
    "name": "ipython",
    "version": 3
   },
   "file_extension": ".py",
   "mimetype": "text/x-python",
   "name": "python",
   "nbconvert_exporter": "python",
   "pygments_lexer": "ipython3",
   "version": "3.8.10"
  },
  "orig_nbformat": 4
 },
 "nbformat": 4,
 "nbformat_minor": 2
}
